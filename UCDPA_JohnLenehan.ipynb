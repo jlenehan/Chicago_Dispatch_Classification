{
 "cells": [
  {
   "cell_type": "code",
   "execution_count": 1,
   "id": "95f61796",
   "metadata": {},
   "outputs": [],
   "source": [
    "##########################################\n",
    "#Step 0: Import libraries\n",
    "##########################################\n",
    "import os\n",
    "import pandas as pd\n",
    "from datetime import date\n",
    "import matplotlib.pyplot as plt\n",
    "import numpy as np\n",
    "import seaborn as sns\n",
    "import missingno as msno"
   ]
  },
  {
   "cell_type": "code",
   "execution_count": 2,
   "id": "7e61f450",
   "metadata": {},
   "outputs": [],
   "source": [
    "##########################################\n",
    "#Step 1: Import data\n",
    "##########################################"
   ]
  },
  {
   "cell_type": "code",
   "execution_count": 3,
   "id": "f3f80797",
   "metadata": {},
   "outputs": [],
   "source": [
    "#Setting directory\n",
    "\n",
    "os.chdir(r'C:\\Users\\jlenehan\\OneDrive - Intel Corporation\\Documents\\0 - Data Science\\Data Analytics Essentials\\UCDPA_JohnLenehan\\UCDPA_JohnLenehan')"
   ]
  },
  {
   "cell_type": "code",
   "execution_count": null,
   "id": "fab32efc",
   "metadata": {},
   "outputs": [],
   "source": [
    "#importing car crash data from chicago data portal\n",
    "#url to overview page - https://data.cityofchicago.org/Transportation/Traffic-Crashes-Crashes/85ca-t3if\n",
    "collision_json = r'https://data.cityofchicago.org/resource/85ca-t3if.json?$limit=99999999' #json url\n",
    "\n",
    "#using chunksize method to read in large datasets\n",
    "collision_raw = pd.read_json(collision_json) #reading collisions json"
   ]
  },
  {
   "cell_type": "code",
   "execution_count": null,
   "id": "6fb28d68",
   "metadata": {},
   "outputs": [],
   "source": [
    "print(collision_raw.head())"
   ]
  },
  {
   "cell_type": "code",
   "execution_count": null,
   "id": "097b44ba",
   "metadata": {},
   "outputs": [],
   "source": [
    "#importing beat data to join to main dataset\n",
    "beat_data=pd.read_csv('PoliceBeatDec2012.csv')\n",
    "\n",
    "print(beat_data.info())\n",
    "print(beat_data.describe())"
   ]
  },
  {
   "cell_type": "code",
   "execution_count": null,
   "id": "004ac63b",
   "metadata": {},
   "outputs": [],
   "source": [
    "##########################################\n",
    "#Step 2: Merge Data\n",
    "##########################################"
   ]
  },
  {
   "cell_type": "code",
   "execution_count": null,
   "id": "c781aaf4",
   "metadata": {},
   "outputs": [],
   "source": [
    "#joining collision data to beat data - inner join\n",
    "collisions = collision_raw.merge(beat_data, how='inner',\n",
    "                                 left_on='beat_of_occurence',\n",
    "                                 right_on='BEAT_NUM',\n",
    "                                 suffixes=('_df1','_df2'))\n",
    "\n",
    "print(collisions.head())"
   ]
  },
  {
   "cell_type": "code",
   "execution_count": null,
   "id": "6d040b73",
   "metadata": {},
   "outputs": [],
   "source": [
    "##########################################\n",
    "#Step 3: Describe data\n",
    "##########################################"
   ]
  },
  {
   "cell_type": "code",
   "execution_count": null,
   "id": "8c64021d",
   "metadata": {},
   "outputs": [],
   "source": [
    "#Describe recent incidents dataset\n",
    "print(collisions.columns)\n",
    "print(collisions.info())\n",
    "print(collisions.describe())\n",
    "print(collisions.shape)\n"
   ]
  },
  {
   "cell_type": "code",
   "execution_count": null,
   "id": "ade86cb1",
   "metadata": {},
   "outputs": [],
   "source": [
    "#converting location data to string\n",
    "collisions['location']=collisions['location'].astype(str)\n",
    "\n",
    "print('\\nSFPD Historical Incidents - Unique Values:')\n",
    "for x in collisions.columns:\n",
    "    print(x+':')\n",
    "    print(collisions[x].unique())\n",
    "    print(str(collisions[x].nunique()) + str(' unique values'))"
   ]
  },
  {
   "cell_type": "code",
   "execution_count": null,
   "id": "b95abf86",
   "metadata": {},
   "outputs": [],
   "source": [
    "##########################################\n",
    "#Step 4: Clean + Manipulate data\n",
    "##########################################"
   ]
  },
  {
   "cell_type": "code",
   "execution_count": null,
   "id": "514246ef",
   "metadata": {},
   "outputs": [],
   "source": [
    "#Converting Incident datetime, Report Datetime to a datetime object\n",
    "#sfpd_incident_current[['incident_datetime','report_datetime']] = sfpd_incident_current[['incident_datetime','report_datetime']].apply(pd.to_datetime)"
   ]
  },
  {
   "cell_type": "code",
   "execution_count": null,
   "id": "81922d5a",
   "metadata": {},
   "outputs": [],
   "source": [
    "#Visualising missing data\n",
    "\n",
    "#Sorting values by report received date\n",
    "collisions = collisions.sort_values(by='crash_date',ascending=True)\n",
    "\n",
    "#plotting matrix of missing data\n",
    "msno.matrix(collisions)\n",
    "plt.show()\n",
    "\n",
    "#info of sorted data\n",
    "print(collisions.info())"
   ]
  },
  {
   "cell_type": "code",
   "execution_count": null,
   "id": "e17b346d",
   "metadata": {},
   "outputs": [],
   "source": [
    "#dropping unnecessary columns\n",
    "drop_cols = ['location', 'report_type', 'intersection_related_i',\n",
    "       'hit_and_run_i', 'photos_taken_i', 'crash_date_est_i', 'beat_of_occurence',\n",
    "       'private_property_i', 'statements_taken_i', 'dooring_i', 'work_zone_i',\n",
    "       'work_zone_type', 'workers_present_i','lane_cnt'\n",
    "            ]\n",
    "\n",
    "collisions=collisions.drop(columns=drop_cols)\n",
    "\n",
    "#plotting matrix of missing data\n",
    "msno.matrix(collisions)\n",
    "plt.show()\n",
    "\n",
    "#info of sorted data\n",
    "print(collisions.info())"
   ]
  },
  {
   "cell_type": "code",
   "execution_count": null,
   "id": "7718020d",
   "metadata": {},
   "outputs": [],
   "source": [
    "#exclude rows missing geolocation data\n",
    "collisions = collisions.dropna(subset = ['latitude'])\n",
    "\n",
    "#plotting matrix of data\n",
    "msno.matrix(collisions)\n",
    "plt.show()\n",
    "\n",
    "#data info\n",
    "print(collisions.info())\n"
   ]
  },
  {
   "cell_type": "code",
   "execution_count": null,
   "id": "d59a4a2e",
   "metadata": {},
   "outputs": [],
   "source": []
  },
  {
   "cell_type": "code",
   "execution_count": null,
   "id": "373704c3",
   "metadata": {},
   "outputs": [],
   "source": [
    "##########################################\n",
    "#Step 5: Plot data\n",
    "##########################################"
   ]
  },
  {
   "cell_type": "code",
   "execution_count": null,
   "id": "2d67f9f4",
   "metadata": {},
   "outputs": [],
   "source": [
    "##########################################\n",
    "#Step 6: Machine Learning\n",
    "##########################################"
   ]
  }
 ],
 "metadata": {
  "kernelspec": {
   "display_name": "Python 3 (ipykernel)",
   "language": "python",
   "name": "python3"
  },
  "language_info": {
   "codemirror_mode": {
    "name": "ipython",
    "version": 3
   },
   "file_extension": ".py",
   "mimetype": "text/x-python",
   "name": "python",
   "nbconvert_exporter": "python",
   "pygments_lexer": "ipython3",
   "version": "3.9.12"
  }
 },
 "nbformat": 4,
 "nbformat_minor": 5
}
